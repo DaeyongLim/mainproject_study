{
 "cells": [
  {
   "cell_type": "markdown",
   "id": "dried-sword",
   "metadata": {},
   "source": [
    "# Github 설치와 저장소 연동\n",
    "\n",
    "1. https://git-scm.com/ 에서 git bash 다운로드 후 디폴트값으로 설치.\n",
    "\n",
    "2. git bash를 실행시킨다.\n",
    "\n",
    "- git config --global user.name \"이름\"\n",
    "- git conifg --global user.email \"깃헙이메일\"\n",
    "- cd \"디렉토리 폴더\"\n",
    "- git init\n",
    "\n",
    "3. Github 홈페이지에 들어가서 Respositories 에서 New를 눌러 새로 생성한다. \n",
    "\n",
    "- Repository name 입력 후 Add a README file, Add.gitignore(python) 선택 후 Create\n",
    "\n",
    "4. 생선한 Repository에서 Code탭을 누르고  HTTPS 주소를 복사한다. \n",
    "\n",
    "5. git bash로 돌아온다.\n",
    "\n",
    "- git clone \"복사한 Repository 주소\"\n",
    "\n",
    "=> clone이 완료되면 설정한 경로에 폴더가 생성된다.\n",
    "\n",
    "6. 생성된 Repository 폴더로 이동한다.\n",
    "\n",
    "- cd \"생성된 Repository 폴더\"\n",
    "\n",
    "- git status (현재상태, 변경사항을 확인할 수 있는 명령어)\n",
    "- git add . (폴더에 추가된 파일들을 add)\n",
    "- git status (안 해도 되지만 항상 확인해보는게 좋다)\n",
    "- git commit -m \"커밋명\" (본인이 알아보기 쉽게 커밋명을 입력하고 commit한다)\n",
    "- git status\n",
    "\n",
    "7. push해서 깃허브에 올리기.\n",
    "\n",
    "- git push origin main\n",
    "디폴트로 진행했다면 브랜치 이름은 main일 것이다."
   ]
  }
 ],
 "metadata": {
  "kernelspec": {
   "display_name": "Python 3",
   "language": "python",
   "name": "python3"
  },
  "language_info": {
   "codemirror_mode": {
    "name": "ipython",
    "version": 3
   },
   "file_extension": ".py",
   "mimetype": "text/x-python",
   "name": "python",
   "nbconvert_exporter": "python",
   "pygments_lexer": "ipython3",
   "version": "3.7.10"
  }
 },
 "nbformat": 4,
 "nbformat_minor": 5
}
